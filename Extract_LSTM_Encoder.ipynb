{
  "nbformat": 4,
  "nbformat_minor": 0,
  "metadata": {
    "colab": {
      "provenance": [],
      "authorship_tag": "ABX9TyOSVytwWaUjZxyzslmFuX7f",
      "include_colab_link": true
    },
    "kernelspec": {
      "name": "python3",
      "display_name": "Python 3"
    },
    "language_info": {
      "name": "python"
    }
  },
  "cells": [
    {
      "cell_type": "markdown",
      "metadata": {
        "id": "view-in-github",
        "colab_type": "text"
      },
      "source": [
        "<a href=\"https://colab.research.google.com/github/SenolIsci/ML-Model-Starters/blob/main/Extract_LSTM_Encoder.ipynb\" target=\"_parent\"><img src=\"https://colab.research.google.com/assets/colab-badge.svg\" alt=\"Open In Colab\"/></a>"
      ]
    },
    {
      "cell_type": "markdown",
      "source": [
        "#Extract LSTM Encoder\n",
        "Regardless of the method chosen (reconstruction, prediction, or composite), once the autoencoder has been fit, the decoder can be removed and the encoder can be kept as a standalone model.\n",
        "\n",
        "The encoder can then be used to transform input sequences to a fixed length encoded vector.\n",
        "\n",
        "We can do this by creating a new model that has the same inputs as our original model, and outputs directly from the end of encoder model, before the RepeatVector layer."
      ],
      "metadata": {
        "id": "kl92FOUhpky5"
      }
    },
    {
      "cell_type": "code",
      "source": [
        "# lstm autoencoder recreate sequence\n",
        "from numpy import array\n",
        "from keras.models import Sequential\n",
        "from keras.models import Model\n",
        "from keras.layers import LSTM\n",
        "from keras.layers import Dense\n",
        "from keras.layers import RepeatVector\n",
        "from keras.layers import TimeDistributed\n",
        "from keras.utils import plot_model\n",
        "# define input sequence\n",
        "sequence = array([0.1, 0.2, 0.3, 0.4, 0.5, 0.6, 0.7, 0.8, 0.9])\n",
        "# reshape input into [samples, timesteps, features]\n",
        "n_in = len(sequence)\n",
        "sequence = sequence.reshape((1, n_in, 1))\n",
        "# define model\n",
        "model = Sequential()\n",
        "model.add(LSTM(100, activation='relu', input_shape=(n_in,1)))\n",
        "model.add(RepeatVector(n_in))\n",
        "model.add(LSTM(100, activation='relu', return_sequences=True))\n",
        "model.add(TimeDistributed(Dense(1)))\n",
        "model.compile(optimizer='adam', loss='mse')\n",
        "# fit model\n",
        "model.fit(sequence, sequence, epochs=300, verbose=0)\n",
        "# connect the encoder LSTM as the output layer\n",
        "model = Model(inputs=model.inputs, outputs=model.layers[0].output)\n",
        "\n",
        "# get the feature vector for the input sequence\n",
        "yhat = model.predict(sequence)\n",
        "print(yhat.shape)\n",
        "print(yhat)\n"
      ],
      "metadata": {
        "colab": {
          "base_uri": "https://localhost:8080/"
        },
        "id": "_Oa3tqswpwsW",
        "outputId": "0f0feec9-8258-4a47-a01d-7697fcfd9b3d"
      },
      "execution_count": 5,
      "outputs": [
        {
          "output_type": "stream",
          "name": "stderr",
          "text": [
            "WARNING:tensorflow:5 out of the last 5 calls to <function Model.make_predict_function.<locals>.predict_function at 0x7f9ebea054c0> triggered tf.function retracing. Tracing is expensive and the excessive number of tracings could be due to (1) creating @tf.function repeatedly in a loop, (2) passing tensors with different shapes, (3) passing Python objects instead of tensors. For (1), please define your @tf.function outside of the loop. For (2), @tf.function has reduce_retracing=True option that can avoid unnecessary retracing. For (3), please refer to https://www.tensorflow.org/guide/function#controlling_retracing and https://www.tensorflow.org/api_docs/python/tf/function for  more details.\n"
          ]
        },
        {
          "output_type": "stream",
          "name": "stdout",
          "text": [
            "1/1 [==============================] - 0s 158ms/step\n",
            "(1, 100)\n",
            "[[0.         0.         0.04009853 0.         0.06237762 0.\n",
            "  0.         0.         0.05926038 0.         0.         0.\n",
            "  0.01777113 0.07028631 0.04650023 0.11129661 0.         0.02187557\n",
            "  0.         0.0583473  0.         0.         0.0791097  0.01871006\n",
            "  0.         0.11849084 0.         0.06240441 0.02270241 0.\n",
            "  0.09184257 0.         0.         0.08118322 0.07064191 0.\n",
            "  0.         0.         0.         0.07500498 0.08546998 0.0338493\n",
            "  0.         0.02220099 0.09252342 0.         0.02526845 0.\n",
            "  0.         0.         0.01978844 0.         0.01856635 0.\n",
            "  0.         0.         0.         0.         0.         0.0050782\n",
            "  0.05472092 0.11489677 0.         0.         0.06859086 0.\n",
            "  0.06271474 0.02566895 0.         0.0387726  0.04905013 0.07745542\n",
            "  0.06308188 0.07511647 0.         0.03145407 0.01468875 0.05362952\n",
            "  0.         0.         0.         0.03423287 0.07455906 0.\n",
            "  0.         0.0936963  0.         0.0705509  0.10162835 0.\n",
            "  0.         0.0820445  0.0753924  0.         0.         0.02241374\n",
            "  0.         0.10976724 0.04854085 0.        ]]\n"
          ]
        }
      ]
    },
    {
      "cell_type": "code",
      "source": [
        "plot_model(model, show_shapes=True)"
      ],
      "metadata": {
        "colab": {
          "base_uri": "https://localhost:8080/",
          "height": 201
        },
        "id": "xmsdCfE7qBrj",
        "outputId": "5ba6a73b-4ab8-4307-8ea2-b7a72d1d1d15"
      },
      "execution_count": 6,
      "outputs": [
        {
          "output_type": "execute_result",
          "data": {
            "image/png": "[encoded data removed]",
            "text/plain": [
              "<IPython.core.display.Image object>"
            ]
          },
          "metadata": {},
          "execution_count": 6
        }
      ]
    },
    {
      "cell_type": "code",
      "source": [],
      "metadata": {
        "id": "_R7fG0qPq2jY"
      },
      "execution_count": null,
      "outputs": []
    }
  ]
}